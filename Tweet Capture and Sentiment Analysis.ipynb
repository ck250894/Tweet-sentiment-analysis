{
 "cells": [
  {
   "cell_type": "code",
   "execution_count": 10,
   "metadata": {},
   "outputs": [
    {
     "name": "stdout",
     "output_type": "stream",
     "text": [
      "Enter number of tweets to be analyzed: 10000\n",
      "Enter a query to find: fcb barcelona\n",
      "WEIGHTED MEAN: -0.11089444613905095\n",
      "NEGATIVE\n",
      "MEAN: -0.09584259259259258\n",
      "NEGATIVE\n"
     ]
    }
   ],
   "source": [
    "import tweepy\n",
    "import numpy as np\n",
    "from textblob import TextBlob\n",
    "\n",
    "consumer_key='NHSWEme6FjmoBHB00pcA4YNwQ'\n",
    "consumer_secret='SQhAhuFEahPTaIQa1tW0KSY1pQmE1rOy5L4tKYonO25FpcLOa9'\n",
    "\n",
    "bearer_token = 'AAAAAAAAAAAAAAAAAAAAAEk4GAEAAAAAWO8FYV6vo0ZFyf6tmNBnuSRFgKw%3DkLKPuvtgVKvfw3KmpHKPTiQrT62jBqXWzseYDDSL5YPrdwxOne'\n",
    "\n",
    "access_token='392840325-X8bmZvBq1N2qoVBTEywZbPsgnuwpyK8PgVY6X7cE'\n",
    "access_token_secret='t9ohtdYRWt3EaARO1r9MYrUcAzMMU74WLEwmP0BC3bE2m'\n",
    "\n",
    "auth = tweepy.OAuthHandler(consumer_key,consumer_secret)\n",
    "auth.set_access_token(access_token,access_token_secret)\n",
    "\n",
    "api = tweepy.API(auth)\n",
    "\n",
    "def is_english(text):\n",
    "    if text.detect_language() == 'en':\n",
    "        return True\n",
    "    return False\n",
    "\n",
    "def tweet_analysis(query, item):\n",
    "    tweets = tweepy.Cursor(api.search, q=query + \" -filter:retweets since:\").items(item)\n",
    "\n",
    "    subjectivities = []\n",
    "    polarities = []\n",
    "\n",
    "    for tweet in tweets:\n",
    "        phrase = TextBlob(tweet.text)\n",
    "\n",
    "        if not is_english(phrase):\n",
    "            phrase = TextBlob(str(phrase.translate(to='en')))\n",
    "\n",
    "        if phrase.sentiment.polarity != 0.0 and phrase.sentiment.subjectivity != 0.0:\n",
    "            polarities.append(phrase.sentiment.polarity)\n",
    "            subjectivities.append(phrase.sentiment.subjectivity)\n",
    "\n",
    "        #print('Tweet: ' + tweet.text)\n",
    "        #print('Polarity: ' + str(phrase.sentiment.polarity) + ' \\ Subjectivity: ' + str(phrase.sentiment.subjectivity))\n",
    "        #print('.....................')\n",
    "\n",
    "    return {'polarity':polarities, 'subjectivity':subjectivities}\n",
    "\n",
    "def get_weighted_polarity_mean(valid_tweets):\n",
    "    return np.average(valid_tweets['polarity'],weights=valid_tweets['subjectivity'])\n",
    "\n",
    "def get_polarity_mean(valid_tweets):\n",
    "    return np.mean(valid_tweets['polarity'])\n",
    "\n",
    "def print_result(mean):\n",
    "    if mean > 0.0:\n",
    "        print('POSITIVE')\n",
    "    elif mean == 0.0:\n",
    "        print('NEUTRAL')\n",
    "    else:\n",
    "        print('NEGATIVE')\n",
    "\n",
    "if __name__ == \"__main__\":\n",
    "    item = int(input(\"Enter number of tweets to be analyzed: \"))\n",
    "    query = input(\"Enter a query to find: \")\n",
    "    analysis = tweet_analysis(query, item)\n",
    "\n",
    "    print('WEIGHTED MEAN: ' + str(get_weighted_polarity_mean(analysis)))\n",
    "    print_result(get_weighted_polarity_mean(analysis))\n",
    "\n",
    "    print('MEAN: ' + str(get_polarity_mean(analysis)))\n",
    "    print_result(get_polarity_mean(analysis))"
   ]
  },
  {
   "cell_type": "code",
   "execution_count": null,
   "metadata": {},
   "outputs": [],
   "source": []
  },
  {
   "cell_type": "code",
   "execution_count": null,
   "metadata": {},
   "outputs": [],
   "source": []
  }
 ],
 "metadata": {
  "kernelspec": {
   "display_name": "Python 3",
   "language": "python",
   "name": "python3"
  },
  "language_info": {
   "codemirror_mode": {
    "name": "ipython",
    "version": 3
   },
   "file_extension": ".py",
   "mimetype": "text/x-python",
   "name": "python",
   "nbconvert_exporter": "python",
   "pygments_lexer": "ipython3",
   "version": "3.7.3"
  }
 },
 "nbformat": 4,
 "nbformat_minor": 2
}
